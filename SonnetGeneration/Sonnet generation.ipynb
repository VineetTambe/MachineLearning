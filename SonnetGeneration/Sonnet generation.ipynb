{
 "cells": [
  {
   "cell_type": "code",
   "execution_count": 2,
   "metadata": {
    "colab": {},
    "colab_type": "code",
    "id": "BOwsuGQQY9OL"
   },
   "outputs": [],
   "source": [
    "import tensorflow as tf\n",
    "\n",
    "from tensorflow.keras.preprocessing.sequence import pad_sequences\n",
    "from tensorflow.keras.layers import Embedding, LSTM, Dense, Bidirectional\n",
    "from tensorflow.keras.preprocessing.text import Tokenizer\n",
    "from tensorflow.keras.models import Sequential\n",
    "from tensorflow.keras.optimizers import Adam\n",
    "from tensorflow.keras.callbacks import EarlyStopping\n",
    "import numpy as np \n",
    "import pickle"
   ]
  },
  {
   "cell_type": "code",
   "execution_count": 4,
   "metadata": {
    "colab": {},
    "colab_type": "code",
    "id": "PRnDnCW-Z7qv"
   },
   "outputs": [],
   "source": [
    "tokenizer = Tokenizer()\n",
    "\n",
    "data = open('dataset_small.txt').read()\n",
    "\n",
    "corpus = data.lower().split(\"<eos>\")\n",
    "\n",
    "#print(corpus)\n",
    "\n",
    "tokenizer.fit_on_texts(corpus)\n",
    "total_words = len(tokenizer.word_index) + 1\n",
    "\n",
    "#print(tokenizer.word_index)\n",
    "#print(total_words)\n",
    "token_path = \"./sonnet_model/data/tokenizer.pkl\"\n",
    "with open(token_path, \"wb\") as fp:\n",
    "    pickle.dump(tokenizer, fp)"
   ]
  },
  {
   "cell_type": "code",
   "execution_count": null,
   "metadata": {},
   "outputs": [],
   "source": []
  },
  {
   "cell_type": "code",
   "execution_count": 5,
   "metadata": {
    "colab": {},
    "colab_type": "code",
    "id": "soPGVheskaQP"
   },
   "outputs": [
    {
     "name": "stdout",
     "output_type": "stream",
     "text": [
      "15\n"
     ]
    }
   ],
   "source": [
    "input_sequences = []\n",
    "\n",
    "for line in corpus:\n",
    "    token_list = tokenizer.texts_to_sequences([line])[0]\n",
    "    for i in range(1, len(token_list)):\n",
    "        n_gram_sequence = token_list[:i+1]\n",
    "        input_sequences.append(n_gram_sequence)\n",
    "\n",
    "# pad sequences \n",
    "max_sequence_len = max([len(x) for x in input_sequences])\n",
    "print(max_sequence_len)\n",
    "input_sequences = np.array(pad_sequences(input_sequences, maxlen=max_sequence_len, padding='pre'))\n",
    "\n",
    "# create predictors and label\n",
    "xs, labels = input_sequences[:,:-1],input_sequences[:,-1]\n",
    "\n",
    "ys = tf.keras.utils.to_categorical(labels, num_classes=total_words)"
   ]
  },
  {
   "cell_type": "code",
   "execution_count": 4,
   "metadata": {
    "colab": {},
    "colab_type": "code",
    "id": "49Cv68JOakwv"
   },
   "outputs": [
    {
     "name": "stdout",
     "output_type": "stream",
     "text": [
      "[   0    0    0    0    0    0    0  104  105  684   55 1918   32    7]\n"
     ]
    }
   ],
   "source": [
    "print(xs[6])"
   ]
  },
  {
   "cell_type": "code",
   "execution_count": 5,
   "metadata": {
    "colab": {},
    "colab_type": "code",
    "id": "iY-jwvfgbEF8"
   },
   "outputs": [
    {
     "name": "stdout",
     "output_type": "stream",
     "text": [
      "[0. 0. 0. ... 0. 0. 0.]\n"
     ]
    }
   ],
   "source": [
    "print(ys[6])"
   ]
  },
  {
   "cell_type": "code",
   "execution_count": 6,
   "metadata": {
    "colab": {},
    "colab_type": "code",
    "id": "wtzlUMYadhKt"
   },
   "outputs": [
    {
     "name": "stdout",
     "output_type": "stream",
     "text": [
      "[   0    0    0    0    0    0    0    0  104  105  684   55 1918   32]\n",
      "[0. 0. 0. ... 0. 0. 0.]\n"
     ]
    }
   ],
   "source": [
    "print(xs[5])\n",
    "print(ys[5])"
   ]
  },
  {
   "cell_type": "code",
   "execution_count": 6,
   "metadata": {
    "colab": {},
    "colab_type": "code",
    "id": "H4myRpB1c4Gg"
   },
   "outputs": [
    {
     "data": {
      "text/plain": [
       "7228"
      ]
     },
     "execution_count": 6,
     "metadata": {},
     "output_type": "execute_result"
    }
   ],
   "source": [
    "# print(tokenizer.word_index)\n",
    "total_words"
   ]
  },
  {
   "cell_type": "code",
   "execution_count": 8,
   "metadata": {
    "colab": {},
    "colab_type": "code",
    "id": "w9vH8Y59ajYL"
   },
   "outputs": [],
   "source": [
    "model = Sequential()\n",
    "model.add(Embedding(total_words, 100, input_length=max_sequence_len-1))\n",
    "model.add(Bidirectional(LSTM(150)))\n",
    "model.add(Dense(total_words, activation='softmax'))\n",
    "adam = Adam(lr=0.01)\n",
    "model.compile(loss='categorical_crossentropy', optimizer=adam, metrics=['accuracy'])\n",
    "earlystop = EarlyStopping(monitor='val_loss', min_delta=0, patience=5, verbose=0, mode='auto')"
   ]
  },
  {
   "cell_type": "code",
   "execution_count": 9,
   "metadata": {},
   "outputs": [
    {
     "name": "stdout",
     "output_type": "stream",
     "text": [
      "Epoch 1/100\n",
      "1109/1109 [==============================] - 49s 44ms/step - loss: 7.3385 - accuracy: 0.0553\n",
      "Epoch 2/100\n",
      "1109/1109 [==============================] - 49s 44ms/step - loss: 6.6075 - accuracy: 0.0745\n",
      "Epoch 3/100\n",
      "1109/1109 [==============================] - 49s 44ms/step - loss: 5.8573 - accuracy: 0.0950\n",
      "Epoch 4/100\n",
      "1109/1109 [==============================] - 49s 44ms/step - loss: 4.9614 - accuracy: 0.1417\n",
      "Epoch 5/100\n",
      "1109/1109 [==============================] - 49s 44ms/step - loss: 4.1825 - accuracy: 0.2109\n",
      "Epoch 6/100\n",
      "1109/1109 [==============================] - 50s 46ms/step - loss: 3.6250 - accuracy: 0.2772\n",
      "Epoch 7/100\n",
      "1109/1109 [==============================] - 52s 47ms/step - loss: 3.2289 - accuracy: 0.3293\n",
      "Epoch 8/100\n",
      "1109/1109 [==============================] - 53s 48ms/step - loss: 2.9617 - accuracy: 0.3714\n",
      "Epoch 9/100\n",
      "1109/1109 [==============================] - 50s 45ms/step - loss: 2.7640 - accuracy: 0.4015\n",
      "Epoch 10/100\n",
      "1109/1109 [==============================] - 51s 46ms/step - loss: 2.6010 - accuracy: 0.4278\n",
      "Epoch 11/100\n",
      "1109/1109 [==============================] - 51s 46ms/step - loss: 2.4554 - accuracy: 0.4541\n",
      "Epoch 12/100\n",
      "1109/1109 [==============================] - 52s 46ms/step - loss: 2.3572 - accuracy: 0.4671\n",
      "Epoch 13/100\n",
      "1109/1109 [==============================] - 52s 47ms/step - loss: 2.3190 - accuracy: 0.4730\n",
      "Epoch 14/100\n",
      "1109/1109 [==============================] - 51s 46ms/step - loss: 2.2312 - accuracy: 0.4904\n",
      "Epoch 15/100\n",
      "1109/1109 [==============================] - 51s 46ms/step - loss: 2.1904 - accuracy: 0.4981\n",
      "Epoch 16/100\n",
      "1109/1109 [==============================] - 51s 46ms/step - loss: 2.1446 - accuracy: 0.5051\n",
      "Epoch 17/100\n",
      "1109/1109 [==============================] - 51s 46ms/step - loss: 2.0972 - accuracy: 0.5177\n",
      "Epoch 18/100\n",
      "1109/1109 [==============================] - 51s 46ms/step - loss: 2.0752 - accuracy: 0.5199\n",
      "Epoch 19/100\n",
      "1109/1109 [==============================] - 51s 46ms/step - loss: 2.0403 - accuracy: 0.5258\n",
      "Epoch 20/100\n",
      "1109/1109 [==============================] - 52s 47ms/step - loss: 2.0438 - accuracy: 0.5280\n",
      "Epoch 21/100\n",
      "1109/1109 [==============================] - 51s 46ms/step - loss: 2.0107 - accuracy: 0.5305\n",
      "Epoch 22/100\n",
      "1109/1109 [==============================] - 51s 46ms/step - loss: 1.9724 - accuracy: 0.5397\n",
      "Epoch 23/100\n",
      "1109/1109 [==============================] - 51s 46ms/step - loss: 1.9818 - accuracy: 0.5370\n",
      "Epoch 24/100\n",
      "1109/1109 [==============================] - 51s 46ms/step - loss: 1.9807 - accuracy: 0.5397\n",
      "Epoch 25/100\n",
      "1109/1109 [==============================] - 54s 49ms/step - loss: 1.9574 - accuracy: 0.5456\n",
      "Epoch 26/100\n",
      "1109/1109 [==============================] - 52s 47ms/step - loss: 1.9691 - accuracy: 0.5386\n",
      "Epoch 27/100\n",
      "1109/1109 [==============================] - 52s 47ms/step - loss: 1.9827 - accuracy: 0.5398\n",
      "Epoch 28/100\n",
      "1109/1109 [==============================] - 53s 48ms/step - loss: 2.0152 - accuracy: 0.5336\n",
      "Epoch 29/100\n",
      "1109/1109 [==============================] - 51s 46ms/step - loss: 1.9671 - accuracy: 0.5409\n",
      "Epoch 30/100\n",
      "1109/1109 [==============================] - 52s 47ms/step - loss: 1.9146 - accuracy: 0.5528\n",
      "Epoch 31/100\n",
      "1109/1109 [==============================] - 51s 46ms/step - loss: 1.9339 - accuracy: 0.5513\n",
      "Epoch 32/100\n",
      "1109/1109 [==============================] - 53s 47ms/step - loss: 1.9433 - accuracy: 0.5453\n",
      "Epoch 33/100\n",
      "1109/1109 [==============================] - 52s 47ms/step - loss: 1.9010 - accuracy: 0.5555\n",
      "Epoch 34/100\n",
      "1109/1109 [==============================] - 52s 47ms/step - loss: 1.8607 - accuracy: 0.5609\n",
      "Epoch 35/100\n",
      "1109/1109 [==============================] - 52s 47ms/step - loss: 1.8954 - accuracy: 0.5593\n",
      "Epoch 36/100\n",
      "1109/1109 [==============================] - 52s 46ms/step - loss: 1.8936 - accuracy: 0.5550\n",
      "Epoch 37/100\n",
      "1109/1109 [==============================] - 51s 46ms/step - loss: 1.9659 - accuracy: 0.5502\n",
      "Epoch 38/100\n",
      "1109/1109 [==============================] - 52s 47ms/step - loss: 1.9517 - accuracy: 0.5519\n",
      "Epoch 39/100\n",
      "1109/1109 [==============================] - 52s 47ms/step - loss: 1.9045 - accuracy: 0.5586\n",
      "Epoch 40/100\n",
      "1109/1109 [==============================] - 51s 46ms/step - loss: 1.8991 - accuracy: 0.5592\n",
      "Epoch 41/100\n",
      "1109/1109 [==============================] - 52s 47ms/step - loss: 1.8942 - accuracy: 0.5602\n",
      "Epoch 42/100\n",
      "1109/1109 [==============================] - 52s 47ms/step - loss: 1.9471 - accuracy: 0.5529\n",
      "Epoch 43/100\n",
      "1109/1109 [==============================] - 51s 46ms/step - loss: 1.9911 - accuracy: 0.5472\n",
      "Epoch 44/100\n",
      "1109/1109 [==============================] - 51s 46ms/step - loss: 1.9564 - accuracy: 0.5509\n",
      "Epoch 45/100\n",
      "1109/1109 [==============================] - 52s 47ms/step - loss: 1.9709 - accuracy: 0.5496\n",
      "Epoch 46/100\n",
      "1109/1109 [==============================] - 52s 47ms/step - loss: 1.9189 - accuracy: 0.5630\n",
      "Epoch 47/100\n",
      "1109/1109 [==============================] - 52s 47ms/step - loss: 1.8911 - accuracy: 0.5628\n",
      "Epoch 48/100\n",
      "1109/1109 [==============================] - 52s 47ms/step - loss: 1.8756 - accuracy: 0.5626\n",
      "Epoch 49/100\n",
      "1109/1109 [==============================] - 51s 46ms/step - loss: 1.8811 - accuracy: 0.5680\n",
      "Epoch 50/100\n",
      "1109/1109 [==============================] - 52s 47ms/step - loss: 1.8877 - accuracy: 0.5645\n",
      "Epoch 51/100\n",
      "1109/1109 [==============================] - 51s 46ms/step - loss: 1.9153 - accuracy: 0.5619\n",
      "Epoch 52/100\n",
      "1109/1109 [==============================] - 52s 47ms/step - loss: 1.8898 - accuracy: 0.5635\n",
      "Epoch 53/100\n",
      "1109/1109 [==============================] - 52s 47ms/step - loss: 1.8875 - accuracy: 0.5618\n",
      "Epoch 54/100\n",
      "1109/1109 [==============================] - 50s 45ms/step - loss: 1.8544 - accuracy: 0.5706\n",
      "Epoch 55/100\n",
      "1109/1109 [==============================] - 50s 45ms/step - loss: 1.8668 - accuracy: 0.5676\n",
      "Epoch 56/100\n",
      "1109/1109 [==============================] - 51s 46ms/step - loss: 1.9253 - accuracy: 0.5601\n",
      "Epoch 57/100\n",
      "1109/1109 [==============================] - 50s 45ms/step - loss: 1.8799 - accuracy: 0.5683\n",
      "Epoch 58/100\n",
      "1109/1109 [==============================] - 50s 45ms/step - loss: 1.8846 - accuracy: 0.5707\n",
      "Epoch 59/100\n",
      "1109/1109 [==============================] - 51s 46ms/step - loss: 1.9277 - accuracy: 0.5629\n",
      "Epoch 60/100\n",
      "1109/1109 [==============================] - 50s 45ms/step - loss: 1.9390 - accuracy: 0.5604\n",
      "Epoch 61/100\n",
      "1109/1109 [==============================] - 50s 45ms/step - loss: 1.8919 - accuracy: 0.5659\n",
      "Epoch 62/100\n",
      "1109/1109 [==============================] - 50s 46ms/step - loss: 1.8732 - accuracy: 0.5731\n",
      "Epoch 63/100\n",
      "1109/1109 [==============================] - 50s 45ms/step - loss: 1.8787 - accuracy: 0.5719\n",
      "Epoch 64/100\n",
      "1109/1109 [==============================] - 63s 56ms/step - loss: 1.8557 - accuracy: 0.5739\n",
      "Epoch 65/100\n",
      "1109/1109 [==============================] - 54s 48ms/step - loss: 1.8925 - accuracy: 0.5667\n",
      "Epoch 66/100\n",
      "1109/1109 [==============================] - 52s 47ms/step - loss: 1.8941 - accuracy: 0.5665\n",
      "Epoch 67/100\n",
      "1109/1109 [==============================] - 53s 48ms/step - loss: 1.8465 - accuracy: 0.5731\n",
      "Epoch 68/100\n",
      "1109/1109 [==============================] - 52s 47ms/step - loss: 1.8374 - accuracy: 0.5776\n",
      "Epoch 69/100\n",
      "1109/1109 [==============================] - 52s 47ms/step - loss: 1.8481 - accuracy: 0.5735\n",
      "Epoch 70/100\n",
      "1109/1109 [==============================] - 53s 48ms/step - loss: 1.8719 - accuracy: 0.5730\n",
      "Epoch 71/100\n",
      "1109/1109 [==============================] - 53s 48ms/step - loss: 1.8365 - accuracy: 0.5769\n",
      "Epoch 72/100\n",
      "1109/1109 [==============================] - 52s 47ms/step - loss: 1.8267 - accuracy: 0.5803\n",
      "Epoch 73/100\n",
      "1109/1109 [==============================] - 53s 48ms/step - loss: 1.8764 - accuracy: 0.5734\n",
      "Epoch 74/100\n",
      "1109/1109 [==============================] - 57s 51ms/step - loss: 1.8857 - accuracy: 0.5704\n",
      "Epoch 75/100\n",
      "1109/1109 [==============================] - 53s 47ms/step - loss: 1.9481 - accuracy: 0.5641\n",
      "Epoch 76/100\n",
      "1109/1109 [==============================] - 52s 47ms/step - loss: 1.9321 - accuracy: 0.5634\n",
      "Epoch 77/100\n",
      "1109/1109 [==============================] - 52s 47ms/step - loss: 1.8879 - accuracy: 0.5713\n",
      "Epoch 78/100\n",
      "1109/1109 [==============================] - 51s 46ms/step - loss: 1.8524 - accuracy: 0.5764\n",
      "Epoch 79/100\n",
      "1109/1109 [==============================] - 50s 45ms/step - loss: 1.8481 - accuracy: 0.5775\n",
      "Epoch 80/100\n",
      "1109/1109 [==============================] - 50s 45ms/step - loss: 1.8145 - accuracy: 0.5811\n",
      "Epoch 81/100\n",
      "1109/1109 [==============================] - 51s 46ms/step - loss: 1.8134 - accuracy: 0.5838\n",
      "Epoch 82/100\n",
      "1109/1109 [==============================] - 51s 46ms/step - loss: 1.8381 - accuracy: 0.5809\n",
      "Epoch 83/100\n",
      "1109/1109 [==============================] - 51s 46ms/step - loss: 1.8375 - accuracy: 0.5802\n",
      "Epoch 84/100\n",
      "1109/1109 [==============================] - 51s 46ms/step - loss: 1.8276 - accuracy: 0.5813\n",
      "Epoch 85/100\n",
      "1109/1109 [==============================] - 52s 47ms/step - loss: 1.8011 - accuracy: 0.5878\n",
      "Epoch 86/100\n",
      "1109/1109 [==============================] - 51s 46ms/step - loss: 1.8146 - accuracy: 0.5868\n",
      "Epoch 87/100\n",
      "1109/1109 [==============================] - 53s 48ms/step - loss: 1.8264 - accuracy: 0.5835\n",
      "Epoch 88/100\n",
      "1109/1109 [==============================] - 51s 46ms/step - loss: 1.8232 - accuracy: 0.5837\n",
      "Epoch 89/100\n",
      "1109/1109 [==============================] - 54s 48ms/step - loss: 1.7856 - accuracy: 0.5930\n",
      "Epoch 90/100\n",
      "1109/1109 [==============================] - 56s 51ms/step - loss: 1.8014 - accuracy: 0.5915\n",
      "Epoch 91/100\n",
      "1109/1109 [==============================] - 54s 49ms/step - loss: 1.8789 - accuracy: 0.5814\n",
      "Epoch 92/100\n",
      "1109/1109 [==============================] - 52s 46ms/step - loss: 1.8649 - accuracy: 0.5797\n",
      "Epoch 93/100\n",
      "1109/1109 [==============================] - 51s 46ms/step - loss: 1.8414 - accuracy: 0.5860\n",
      "Epoch 94/100\n",
      "1109/1109 [==============================] - 51s 46ms/step - loss: 1.8008 - accuracy: 0.5893\n",
      "Epoch 95/100\n",
      "1109/1109 [==============================] - 51s 46ms/step - loss: 1.7730 - accuracy: 0.5957\n",
      "Epoch 96/100\n",
      "1109/1109 [==============================] - 51s 46ms/step - loss: 1.7705 - accuracy: 0.5958\n",
      "Epoch 97/100\n",
      "1109/1109 [==============================] - 52s 47ms/step - loss: 1.7974 - accuracy: 0.5909\n",
      "Epoch 98/100\n",
      "1109/1109 [==============================] - 52s 47ms/step - loss: 1.7878 - accuracy: 0.5943\n",
      "Epoch 99/100\n",
      "1109/1109 [==============================] - 52s 47ms/step - loss: 1.7741 - accuracy: 0.5953\n",
      "Epoch 100/100\n",
      "1109/1109 [==============================] - 55s 49ms/step - loss: 1.7734 - accuracy: 0.5962\n",
      "<tensorflow.python.keras.engine.sequential.Sequential object at 0x7f7b89bd0050>\n"
     ]
    }
   ],
   "source": [
    "history = model.fit(xs, ys, epochs=100, verbose=1)\n",
    "print(model)"
   ]
  },
  {
   "cell_type": "code",
   "execution_count": 10,
   "metadata": {},
   "outputs": [],
   "source": [
    "model_path = \"./sonnet_model/sonnet-model.hdf5\"\n",
    "model.save_weights(model_path)"
   ]
  },
  {
   "cell_type": "code",
   "execution_count": 11,
   "metadata": {
    "colab": {},
    "colab_type": "code",
    "id": "3YXGelKThoTT"
   },
   "outputs": [],
   "source": [
    "import matplotlib.pyplot as plt\n",
    "\n",
    "\n",
    "def plot_graphs(history, string):\n",
    "  plt.plot(history.history[string])\n",
    "  plt.xlabel(\"Epochs\")\n",
    "  plt.ylabel(string)\n",
    "  plt.show()"
   ]
  },
  {
   "cell_type": "code",
   "execution_count": 19,
   "metadata": {
    "colab": {},
    "colab_type": "code",
    "id": "poeprYK8h-c7"
   },
   "outputs": [
    {
     "data": {
      "image/png": "[encoded data removed]",
      "text/plain": [
       "<Figure size 432x288 with 1 Axes>"
      ]
     },
     "metadata": {
      "needs_background": "light"
     },
     "output_type": "display_data"
    }
   ],
   "source": [
    "plot_graphs(history, 'accuracy')\n"
   ]
  },
  {
   "cell_type": "code",
   "execution_count": 25,
   "metadata": {},
   "outputs": [
    {
     "data": {
      "image/png": "[encoded data removed]",
      "text/plain": [
       "<Figure size 432x288 with 1 Axes>"
      ]
     },
     "metadata": {
      "needs_background": "light"
     },
     "output_type": "display_data"
    }
   ],
   "source": [
    "keys = ['accuracy', 'loss', 'val_accuracy', 'val_loss']\n",
    "plot_graphs(history, 'loss')"
   ]
  },
  {
   "cell_type": "code",
   "execution_count": null,
   "metadata": {},
   "outputs": [],
   "source": []
  },
  {
   "cell_type": "code",
   "execution_count": null,
   "metadata": {},
   "outputs": [],
   "source": []
  },
  {
   "cell_type": "code",
   "execution_count": 24,
   "metadata": {},
   "outputs": [
    {
     "name": "stdout",
     "output_type": "stream",
     "text": [
      "Model: \"sequential\"\n",
      "_________________________________________________________________\n",
      "Layer (type)                 Output Shape              Param #   \n",
      "=================================================================\n",
      "embedding (Embedding)        (None, 14, 100)           722800    \n",
      "_________________________________________________________________\n",
      "bidirectional (Bidirectional (None, 300)               301200    \n",
      "_________________________________________________________________\n",
      "dense (Dense)                (None, 7228)              2175628   \n",
      "=================================================================\n",
      "Total params: 3,199,628\n",
      "Trainable params: 3,199,628\n",
      "Non-trainable params: 0\n",
      "_________________________________________________________________\n"
     ]
    }
   ],
   "source": [
    "model.summary()\n"
   ]
  },
  {
   "cell_type": "code",
   "execution_count": 13,
   "metadata": {},
   "outputs": [],
   "source": [
    "#seed_text = input(\"Enter the seed sentence\\n\")\n"
   ]
  },
  {
   "cell_type": "code",
   "execution_count": 14,
   "metadata": {},
   "outputs": [],
   "source": [
    "#print(seed_text);"
   ]
  },
  {
   "cell_type": "code",
   "execution_count": 1,
   "metadata": {
    "colab": {},
    "colab_type": "code",
    "id": "6Vc6PHgxa6Hm"
   },
   "outputs": [
    {
     "ename": "NameError",
     "evalue": "name 'tokenizer' is not defined",
     "output_type": "error",
     "traceback": [
      "\u001b[0;31m---------------------------------------------------------------------------\u001b[0m",
      "\u001b[0;31mNameError\u001b[0m                                 Traceback (most recent call last)",
      "\u001b[0;32m<ipython-input-1-8c8c561254a1>\u001b[0m in \u001b[0;36m<module>\u001b[0;34m\u001b[0m\n\u001b[1;32m      4\u001b[0m \u001b[0;34m\u001b[0m\u001b[0m\n\u001b[1;32m      5\u001b[0m \u001b[0;32mfor\u001b[0m \u001b[0m_\u001b[0m \u001b[0;32min\u001b[0m \u001b[0mrange\u001b[0m\u001b[0;34m(\u001b[0m\u001b[0mnext_words\u001b[0m\u001b[0;34m)\u001b[0m\u001b[0;34m:\u001b[0m\u001b[0;34m\u001b[0m\u001b[0;34m\u001b[0m\u001b[0m\n\u001b[0;32m----> 6\u001b[0;31m     \u001b[0mtoken_list\u001b[0m \u001b[0;34m=\u001b[0m \u001b[0mtokenizer\u001b[0m\u001b[0;34m.\u001b[0m\u001b[0mtexts_to_sequences\u001b[0m\u001b[0;34m(\u001b[0m\u001b[0;34m[\u001b[0m\u001b[0mseed_text\u001b[0m\u001b[0;34m]\u001b[0m\u001b[0;34m)\u001b[0m\u001b[0;34m[\u001b[0m\u001b[0;36m0\u001b[0m\u001b[0;34m]\u001b[0m\u001b[0;34m\u001b[0m\u001b[0;34m\u001b[0m\u001b[0m\n\u001b[0m\u001b[1;32m      7\u001b[0m     \u001b[0mtoken_list\u001b[0m \u001b[0;34m=\u001b[0m \u001b[0mpad_sequences\u001b[0m\u001b[0;34m(\u001b[0m\u001b[0;34m[\u001b[0m\u001b[0mtoken_list\u001b[0m\u001b[0;34m]\u001b[0m\u001b[0;34m,\u001b[0m \u001b[0mmaxlen\u001b[0m\u001b[0;34m=\u001b[0m\u001b[0mmax_sequence_len\u001b[0m\u001b[0;34m-\u001b[0m\u001b[0;36m1\u001b[0m\u001b[0;34m,\u001b[0m \u001b[0mpadding\u001b[0m\u001b[0;34m=\u001b[0m\u001b[0;34m'pre'\u001b[0m\u001b[0;34m)\u001b[0m\u001b[0;34m\u001b[0m\u001b[0;34m\u001b[0m\u001b[0m\n\u001b[1;32m      8\u001b[0m     \u001b[0mpredicted\u001b[0m \u001b[0;34m=\u001b[0m \u001b[0mmodel\u001b[0m\u001b[0;34m.\u001b[0m\u001b[0mpredict_classes\u001b[0m\u001b[0;34m(\u001b[0m\u001b[0mtoken_list\u001b[0m\u001b[0;34m,\u001b[0m \u001b[0mverbose\u001b[0m\u001b[0;34m=\u001b[0m\u001b[0;36m0\u001b[0m\u001b[0;34m)\u001b[0m\u001b[0;34m\u001b[0m\u001b[0;34m\u001b[0m\u001b[0m\n",
      "\u001b[0;31mNameError\u001b[0m: name 'tokenizer' is not defined"
     ]
    }
   ],
   "source": [
    "# estimating 7 words per line => 7*13 = 91\n",
    "seed_text = \"The sky is bright and blue\"\n",
    "next_words = 91\n",
    "  \n",
    "for _ in range(next_words):\n",
    "    token_list = tokenizer.texts_to_sequences([seed_text])[0]\n",
    "    token_list = pad_sequences([token_list], maxlen=max_sequence_len-1, padding='pre')\n",
    "    predicted = model.predict_classes(token_list, verbose=0)\n",
    "    output_word = \"\"\n",
    "    for word, index in tokenizer.word_index.items():\n",
    "        if index == predicted:\n",
    "            output_word = word\n",
    "            break\n",
    "    seed_text += \" \" + output_word\n"
   ]
  },
  {
   "cell_type": "code",
   "execution_count": 16,
   "metadata": {},
   "outputs": [
    {
     "name": "stdout",
     "output_type": "stream",
     "text": [
      "The sky is bright and blue a pleasing pain the father of the elm tree bough drew he fear of deadly other friends displayed fear thy continual haste of those in thy mind thy matchless away on cupid of love do bless è d cheek and thy love in you 's ruthless gale of whose unappeased conduct the lays more fear spear 'd e'en around tranquillity watch she made you woods waste of wings of man of wealth believed bosom and let in vain from me thy flame though others to judge whilst many from my passion\n"
     ]
    }
   ],
   "source": [
    "print(seed_text)"
   ]
  },
  {
   "cell_type": "code",
   "execution_count": 17,
   "metadata": {},
   "outputs": [],
   "source": [
    "seed_text = seed_text.split(\" \")"
   ]
  },
  {
   "cell_type": "code",
   "execution_count": 18,
   "metadata": {},
   "outputs": [
    {
     "name": "stdout",
     "output_type": "stream",
     "text": [
      "\n",
      "\n",
      "The sky is bright and blue a \n",
      "pleasing pain the father of the elm \n",
      "tree bough drew he fear of deadly \n",
      "other friends displayed fear thy continual haste \n",
      "\n",
      "of those in thy mind thy matchless \n",
      "away on cupid of love do bless \n",
      "è d cheek and thy love in \n",
      "you 's ruthless gale of whose unappeased \n",
      "\n",
      "conduct the lays more fear spear 'd \n",
      "e'en around tranquillity watch she made you \n",
      "woods waste of wings of man of \n",
      "wealth believed bosom and let in vain \n",
      "\n",
      "from me thy flame though others to \n",
      "judge whilst many from my passion "
     ]
    }
   ],
   "source": [
    "i=0\n",
    "for word in seed_text: \n",
    "    if i%7 == 0:\n",
    "        print()\n",
    "    if i%28==0:\n",
    "        print()\n",
    "    print(word, end = \" \") \n",
    "    i = i+1\n",
    "    "
   ]
  },
  {
   "cell_type": "code",
   "execution_count": null,
   "metadata": {},
   "outputs": [],
   "source": []
  }
 ],
 "metadata": {
  "accelerator": "GPU",
  "colab": {
   "name": "Course 3 - Week 4 - Lesson 2 - Notebook.ipynb",
   "provenance": [],
   "toc_visible": true
  },
  "kernelspec": {
   "display_name": "Python 3",
   "language": "python",
   "name": "python3"
  },
  "language_info": {
   "codemirror_mode": {
    "name": "ipython",
    "version": 3
   },
   "file_extension": ".py",
   "mimetype": "text/x-python",
   "name": "python",
   "nbconvert_exporter": "python",
   "pygments_lexer": "ipython3",
   "version": "3.7.7"
  }
 },
 "nbformat": 4,
 "nbformat_minor": 1
}
